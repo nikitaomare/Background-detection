{
 "cells": [
  {
   "cell_type": "markdown",
   "metadata": {},
   "source": [
    "# Unsupervised Planogram Compliance\n",
    "\n",
    "http://openaccess.thecvf.com/content_ECCV_2018/html/Archan_Ray_U-PC_Unsupervised_Planogram_ECCV_2018_paper.html\n",
    "http://openaccess.thecvf.com/content_ECCV_2018/papers/Archan_Ray_U-PC_Unsupervised_Planogram_ECCV_2018_paper.pdf"
   ]
  },
  {
   "cell_type": "code",
   "execution_count": null,
   "metadata": {},
   "outputs": [],
   "source": [
    "#IMPORTING LIBRARIES\n",
    "\n",
    "import os\n",
    "import io\n",
    "import sys\n",
    "import numpy as np\n",
    "from sklearn.cluster import KMeans\n",
    "import cv2\n",
    "import tensorflow as tf\n",
    "\n",
    "import matplotlib.pyplot as plt\n",
    "%matplotlib inline"
   ]
  },
  {
   "cell_type": "markdown",
   "metadata": {},
   "source": [
    "### 1. Hyperparameters "
   ]
  },
  {
   "cell_type": "code",
   "execution_count": null,
   "metadata": {},
   "outputs": [],
   "source": [
    "#KERNEL SIZE\n",
    "k = 20\n",
    "\n",
    "#STRIDE\n",
    "s = 20\n",
    "\n",
    "#NUMBER OF CLUSTERS \n",
    "n_clusters = 3"
   ]
  },
  {
   "cell_type": "markdown",
   "metadata": {},
   "source": [
    "### 2. Input Rack Image"
   ]
  },
  {
   "cell_type": "code",
   "execution_count": null,
   "metadata": {
    "scrolled": true
   },
   "outputs": [],
   "source": [
    "def read_rackImage(image_name):\n",
    "\n",
    "    img=cv2.imread(image_name)\n",
    "    img=cv2.cvtColor(img, cv2.COLOR_BGR2RGB)\n",
    "    plt.imshow(img)\n",
    "    \n",
    "    X=np.array(img)\n",
    "    print('Shape of rack image: ' + str(X.shape))\n",
    "    \n",
    "    return X, img\n",
    "    \n",
    "X, img = read_rackImage('set3_rack.jpeg')"
   ]
  },
  {
   "cell_type": "markdown",
   "metadata": {},
   "source": [
    "### 3. Pad Rack Image"
   ]
  },
  {
   "cell_type": "code",
   "execution_count": null,
   "metadata": {},
   "outputs": [],
   "source": [
    "def pad_rackImage(X, img, k):\n",
    "\n",
    "    h, w = np.shape(X[:,:,-1])\n",
    "    \n",
    "    sess = tf.Session()\n",
    "    with sess.as_default():\n",
    "\n",
    "        X = tf.pad(X, ([0, (k - h%k)%k], [0, (k - w%k)%k], [0, 0]), name = 'pad_rackImage')\n",
    "        X = X.eval()\n",
    "    \n",
    "    print('Shape of padded rack image: ' + str(np.shape(X)))\n",
    "    plt.imshow(img)\n",
    "    \n",
    "    return X, img\n",
    "\n",
    "X, img = pad_rackImage(X, img, k)"
   ]
  },
  {
   "cell_type": "markdown",
   "metadata": {},
   "source": [
    "### 4. Retrive Padded Rack Image Details"
   ]
  },
  {
   "cell_type": "code",
   "execution_count": null,
   "metadata": {},
   "outputs": [],
   "source": [
    "def info_rackImage(X, img):\n",
    "    \n",
    "    h, w, channels = np.shape(X)\n",
    "    info = (X, img, h, w, channels)\n",
    "    \n",
    "    return info\n",
    "\n",
    "info = info_rackImage(X, img)"
   ]
  },
  {
   "cell_type": "markdown",
   "metadata": {},
   "source": [
    "### 5. Sliding Window"
   ]
  },
  {
   "cell_type": "code",
   "execution_count": null,
   "metadata": {},
   "outputs": [],
   "source": [
    "def sliding_window(info, k, s):\n",
    "\n",
    "    X, h, w = info[0], info[2], info[3]\n",
    "    X1np=[]\n",
    "    \n",
    "    for i in range(h//k):\n",
    "        for j in range(w//k):\n",
    "            \n",
    "            window = X[i*k:i*k + k, j*k:j*k + k, :]\n",
    "            X1np.append(np.array(window))\n",
    "    \n",
    "    #Flatten List of Sliding Windows\n",
    "    X2np = X1np.reshape(X1np.shape[0], X1np.shape[1]*X1np.shape[2]*X1np.shape[3])\n",
    "            \n",
    "    return X1np, X2np\n",
    "\n",
    "X1np, X2np = sliding_window(info, k, s)\n",
    "print('Shape of list of sliding window instances: ' + str(X1np.shape) + ' ' + str(X2np.shape))"
   ]
  },
  {
   "cell_type": "markdown",
   "metadata": {},
   "source": [
    "## 6. Implement Kmeans_Cluster"
   ]
  },
  {
   "cell_type": "code",
   "execution_count": null,
   "metadata": {},
   "outputs": [],
   "source": [
    "def Kmeans_Cluster(X2np, n_clusters):\n",
    "\n",
    "    kmeans = KMeans(n_clusters = n_clusters, random_state = 0,verbose = 0).fit_predict(X2np)\n",
    "    print('Shape of Kmeans output: '+ str(kmeans.shape))\n",
    "    \n",
    "    return kmeans\n",
    "\n",
    "kmeans = Kmeans_Cluster(X2np, n_clusters)\n",
    "\n",
    "#Instance of Kmeans output\n",
    "instances = 1000\n",
    "print('Cluster prediction for '+str(instances)+' windows: ' +str(kmeans[:instances]))"
   ]
  },
  {
   "cell_type": "markdown",
   "metadata": {},
   "source": [
    "## 7. Image after Cluster Division"
   ]
  },
  {
   "cell_type": "code",
   "execution_count": null,
   "metadata": {},
   "outputs": [],
   "source": [
    "def cluster_rackImage(kmeans, info, n_clusters):\n",
    "\n",
    "    (_, _, h, w, _) = info\n",
    "    kmeans1 = kmeans.reshape(h//k, w//k)\n",
    "    color_map = np.zeros((h, w))\n",
    "\n",
    "    for i in range(kmeans1.shape[0]):\n",
    "        for j in range(kmeans1.shape[1]):\n",
    "            \n",
    "            col=255/(n_clusters - 1)\n",
    "            temp = col*kmeans1[i][j] \n",
    "            \n",
    "            color_map[i*k : i*k + k, j*k : j*k + k] = np.full((k,k),temp)\n",
    "    \n",
    "    print('Shape of clustered rack image: ' + str(np.shape(color_map)))\n",
    "        \n",
    "    return color_map\n",
    "    \n",
    "color_map = cluster_rackImage(kmeans, info, n_clusters)\n",
    "plt.imshow(color_map)\n",
    "plt.show"
   ]
  },
  {
   "cell_type": "markdown",
   "metadata": {},
   "source": [
    "#### Notes\n",
    "1) Changing the following things give different results:\n",
    "<br/>a) col\n",
    "<br/>b) n_clusters\n",
    "<br/>c) kernel_size(k=20 is best till now)"
   ]
  },
  {
   "cell_type": "code",
   "execution_count": null,
   "metadata": {},
   "outputs": [],
   "source": []
  }
 ],
 "metadata": {
  "kernelspec": {
   "display_name": "Python 3",
   "language": "python",
   "name": "python3"
  },
  "language_info": {
   "codemirror_mode": {
    "name": "ipython",
    "version": 3
   },
   "file_extension": ".py",
   "mimetype": "text/x-python",
   "name": "python",
   "nbconvert_exporter": "python",
   "pygments_lexer": "ipython3",
   "version": "3.7.0"
  }
 },
 "nbformat": 4,
 "nbformat_minor": 2
}
