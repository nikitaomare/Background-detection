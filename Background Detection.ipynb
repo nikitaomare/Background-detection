{
 "cells": [
  {
   "cell_type": "markdown",
   "metadata": {},
   "source": [
    "# Unsupervised Planogram Compliance\n",
    "\n",
    "http://openaccess.thecvf.com/content_ECCV_2018/html/Archan_Ray_U-PC_Unsupervised_Planogram_ECCV_2018_paper.html\n",
    "http://openaccess.thecvf.com/content_ECCV_2018/papers/Archan_Ray_U-PC_Unsupervised_Planogram_ECCV_2018_paper.pdf"
   ]
  },
  {
   "cell_type": "code",
   "execution_count": null,
   "metadata": {},
   "outputs": [],
   "source": [
    "# IMPORTING LIBRARIES\n",
    "\n",
    "import os\n",
    "import io\n",
    "import sys\n",
    "import numpy as np\n",
    "from sklearn.cluster import KMeans\n",
    "import cv2\n",
    "import tensorflow as tf\n",
    "\n",
    "import matplotlib.pyplot as plt\n",
    "%matplotlib inline"
   ]
  },
  {
   "cell_type": "code",
   "execution_count": null,
   "metadata": {},
   "outputs": [],
   "source": [
    "# KERNEL SIZE\n",
    "k = 20\n",
    "k_des = 100\n",
    "\n",
    "# STRIDE\n",
    "s = 20\n",
    "s_des = 100\n",
    "\n",
    "# NUMBER OF CLUSTERS \n",
    "n_clusters = 3\n",
    "n_clusters_des = 6"
   ]
  },
  {
   "cell_type": "markdown",
   "metadata": {},
   "source": [
    "## 1. Ready Input Rack Image\n",
    "Input -> Crop -> Info Tuple (For Input Rack Image)"
   ]
  },
  {
   "cell_type": "markdown",
   "metadata": {},
   "source": [
    "### 1.1 Input Image"
   ]
  },
  {
   "cell_type": "code",
   "execution_count": null,
   "metadata": {},
   "outputs": [],
   "source": [
    "def read_rackImage(image_name):\n",
    "\n",
    "    img=cv2.imread(image_name)\n",
    "    img=cv2.cvtColor(img, cv2.COLOR_BGR2RGB)\n",
    "    plt.imshow(img)\n",
    "    \n",
    "    X=np.array(img)\n",
    "    print('Shape of rack image: ' + str(X.shape))\n",
    "    \n",
    "    return X, img\n",
    "    \n",
    "X, img = read_rackImage('set1_rack.jpeg')"
   ]
  },
  {
   "cell_type": "markdown",
   "metadata": {},
   "source": [
    "### 1.2 Crop Image"
   ]
  },
  {
   "cell_type": "code",
   "execution_count": null,
   "metadata": {},
   "outputs": [],
   "source": [
    "def crop_rackImage(X, img, k):\n",
    "\n",
    "    h = np.shape(X)[0]\n",
    "    \n",
    "    # Step 1\n",
    "    X = X[int(0.1*h):, :]\n",
    "    print('Shape of cropped rack image 1: ' + str(np.shape(X)))\n",
    "    \n",
    "    h, w = np.shape(X[:,:,-1])\n",
    "    \n",
    "    # Step 2\n",
    "    X = X[:h - h%k, :w - w%k]\n",
    "    print('Shape of cropped rack image 2: ' + str(np.shape(X)))\n",
    "    \n",
    "    plt.imshow(X)\n",
    "    \n",
    "    return X, img\n",
    "\n",
    "X, img = crop_rackImage(X, img, k)"
   ]
  },
  {
   "cell_type": "markdown",
   "metadata": {},
   "source": [
    "### 1.3 Retrieve Image Information"
   ]
  },
  {
   "cell_type": "code",
   "execution_count": null,
   "metadata": {},
   "outputs": [],
   "source": [
    "def info_rackImage(X, img):\n",
    "    \n",
    "    h, w, channels = np.shape(X)\n",
    "    info = (X, img, h, w, channels)\n",
    "    \n",
    "    return info\n",
    "\n",
    "info = info_rackImage(X, img)"
   ]
  },
  {
   "cell_type": "markdown",
   "metadata": {},
   "source": [
    "## 2. Get Features for Rack Image\n",
    "Grid -> SURF Features "
   ]
  },
  {
   "cell_type": "markdown",
   "metadata": {},
   "source": [
    "### 2.1 Grid Formation"
   ]
  },
  {
   "cell_type": "code",
   "execution_count": null,
   "metadata": {},
   "outputs": [],
   "source": [
    "def sliding_window(info, k, s):\n",
    "\n",
    "    X, h, w = info[0], info[2], info[3]\n",
    "    X1np=[]\n",
    "    \n",
    "    for i in range(h//k):\n",
    "        for j in range(w//k):\n",
    "            \n",
    "            window = X[i*k:i*k + k, j*k:j*k + k, :]\n",
    "            X1np.append(np.asarray(window))\n",
    "    \n",
    "    X1np = np.asarray(X1np)\n",
    "    \n",
    "    # Flatten List of Sliding Windows\n",
    "    X2np = X1np.reshape(X1np.shape[0], X1np.shape[1]*X1np.shape[2]*X1np.shape[3])\n",
    "            \n",
    "    return X1np, X2np\n",
    "\n",
    "X1np ,X2np = sliding_window(info, k, s)\n",
    "X1np_des, X2np_des = sliding_window(info, k_des, s_des)\n",
    "print('Shape of list of sliding window instances (without feature descriptors): ' + str(X1np.shape) + ' '+str(X2np.shape))\n",
    "print('Shape of list of sliding window instances (with feature descriptors): ' + str(X1np_des.shape) + ' '+str(X2np_des.shape))"
   ]
  },
  {
   "cell_type": "markdown",
   "metadata": {},
   "source": [
    "### 2.2 SURF Features"
   ]
  },
  {
   "cell_type": "code",
   "execution_count": null,
   "metadata": {},
   "outputs": [],
   "source": [
    "X_des=[]\n",
    "\n",
    "# Hyperparameter\n",
    "n_features = 5\n",
    "\n",
    "def surf_rackImage(X1np_des, n_features):\n",
    "    \n",
    "    for i in range(X1np_des.shape[0]):\n",
    "        \n",
    "        arr = np.zeros((n_features*32))\n",
    "        surf = cv2.xfeatures2d.SURF_create()\n",
    "        orb = cv2.ORB_create(nfeatures = n_features)\n",
    "        keypoints, descriptors= orb.detectAndCompute(X1np_des[i], None)\n",
    "        \n",
    "        des = np.asarray(descriptors)\n",
    "        des = des.flatten()\n",
    "\n",
    "        for j in range(des.shape[0]):\n",
    "            if des.shape[0] != 1:\n",
    "                arr[j] = arr[j] + des[j]\n",
    "        \n",
    "        X_des.append(arr)\n",
    "    \n",
    "    return X_des\n",
    "\n",
    "X_des=surf_rackImage(X1np_des,n_features)"
   ]
  },
  {
   "cell_type": "markdown",
   "metadata": {},
   "source": [
    "## 3. K-Means Clustering\n",
    "Color-based Color Map + SURF-based Color Map -> Weighted Sum Color Map"
   ]
  },
  {
   "cell_type": "markdown",
   "metadata": {},
   "source": [
    "### 3.1 K-Means Color Maps"
   ]
  },
  {
   "cell_type": "code",
   "execution_count": null,
   "metadata": {},
   "outputs": [],
   "source": [
    "def Kmeans_Cluster(X, n_clusters):\n",
    "\n",
    "    kmeans = KMeans(n_clusters = n_clusters, random_state = 0,verbose = 0).fit_predict(X)\n",
    "    print('Shape of Kmeans output: '+ str(kmeans.shape))\n",
    "    \n",
    "    return kmeans\n",
    "\n",
    "kmeans = Kmeans_Cluster(X2np, n_clusters)\n",
    "kmeans_des = Kmeans_Cluster(X_des, n_clusters_des)\n",
    "\n",
    "def cluster_rackImage(kmeans, info, n_clusters, k):\n",
    "\n",
    "    X,img,h, w,c = info\n",
    "    kmeans1 = kmeans.reshape(h//k, w//k)\n",
    "    color_map = np.zeros((h, w))\n",
    "\n",
    "    for i in range(kmeans1.shape[0]):\n",
    "        for j in range(kmeans1.shape[1]):\n",
    "            \n",
    "            col=255/(n_clusters - 1)\n",
    "            temp = col*kmeans1[i][j] \n",
    "            \n",
    "            color_map[i*k : i*k + k, j*k : j*k + k] = np.full((k,k),temp)\n",
    "    \n",
    "    print('Shape of clustered rack image: ' + str(np.shape(color_map)))\n",
    "        \n",
    "    return color_map"
   ]
  },
  {
   "cell_type": "markdown",
   "metadata": {},
   "source": [
    "### 3.2 Color-Based Color Map"
   ]
  },
  {
   "cell_type": "code",
   "execution_count": null,
   "metadata": {},
   "outputs": [],
   "source": [
    "color_map = cluster_rackImage(kmeans, info, n_clusters, k)\n",
    "plt.imshow(color_map)\n",
    "plt.show"
   ]
  },
  {
   "cell_type": "markdown",
   "metadata": {},
   "source": [
    "### 3.3 SURF-Based Color Map"
   ]
  },
  {
   "cell_type": "code",
   "execution_count": null,
   "metadata": {},
   "outputs": [],
   "source": [
    "color_map_des = cluster_rackImage(kmeans_des, info, n_clusters_des, k_des)\n",
    "plt.imshow(color_map_des)\n",
    "plt.show"
   ]
  },
  {
   "cell_type": "markdown",
   "metadata": {},
   "source": [
    "### 3.4 Weighted Sum Color Map"
   ]
  },
  {
   "cell_type": "code",
   "execution_count": null,
   "metadata": {},
   "outputs": [],
   "source": [
    "# Hyperparamter\n",
    "alpha = 0.6\n",
    "\n",
    "color_map_sum = alpha*(color_map_des) + (1 - alpha)*color_map\n",
    "plt.imshow(color_map_sum)\n",
    "plt.show"
   ]
  },
  {
   "cell_type": "markdown",
   "metadata": {},
   "source": [
    "## 4. Morphological Transformations\n",
    "Erosion and Closing"
   ]
  },
  {
   "cell_type": "markdown",
   "metadata": {},
   "source": [
    "### 4.1  Erosion"
   ]
  },
  {
   "cell_type": "code",
   "execution_count": null,
   "metadata": {},
   "outputs": [],
   "source": [
    "kernel = np.ones((100,100), np.uint8) \n",
    "erosion = cv2.erode(color_map_sum, kernel, iterations=1)\n",
    "plt.imshow(erosion)\n",
    "plt.show"
   ]
  },
  {
   "cell_type": "markdown",
   "metadata": {},
   "source": [
    "### 4.2 Opening"
   ]
  },
  {
   "cell_type": "code",
   "execution_count": null,
   "metadata": {},
   "outputs": [],
   "source": [
    "kernel = np.ones((100,100), np.uint8) \n",
    "opening = cv2.morphologyEx(color_map_sum, cv2.MORPH_OPEN, kernel)\n",
    "plt.imshow(opening)\n",
    "plt.show"
   ]
  },
  {
   "cell_type": "markdown",
   "metadata": {},
   "source": [
    "## 5. Object Expectancy Graphs"
   ]
  },
  {
   "cell_type": "markdown",
   "metadata": {},
   "source": [
    "### 5.1 Necessary Functions"
   ]
  },
  {
   "cell_type": "code",
   "execution_count": null,
   "metadata": {},
   "outputs": [],
   "source": [
    "def momentum(y):\n",
    "    \n",
    "    #Hyperparameter\n",
    "    beta = 0.99\n",
    "    \n",
    "    weighted_y = [y[0], ]\n",
    "    for i in range(1, np.array(y).shape[0]):\n",
    "        temp_y = beta*weighted_y[i-1] + (1 - beta)*y[i]\n",
    "        weighted_y.append(temp_y)\n",
    "        \n",
    "    weighted_y = np.asarray(weighted_y)    \n",
    "    \n",
    "    return weighted_y\n",
    "\n",
    "def objectExpectancy_rackImage_1(color_map, info):\n",
    "        \n",
    "    y_cluster = []    \n",
    "    for i in range(color_map.shape[1]):\n",
    "        \n",
    "        sum = 0\n",
    "        for j in range(color_map.shape[0]):\n",
    "            if color_map[j, i] != 0: \n",
    "                sum += 1\n",
    "        \n",
    "        y_cluster.append(sum)\n",
    "\n",
    "    y_cluster = momentum(y_cluster)\n",
    "    y_cluster = y_cluster/np.amax(y_cluster)\n",
    "    \n",
    "    return y_cluster\n",
    "\n",
    "def weightedObjectExpectancy_rackImage_1(color_map, info):\n",
    "    \n",
    "    h = info[2]\n",
    "    \n",
    "    # Hyperparameter\n",
    "    regions = 3\n",
    "    \n",
    "    y_cluster = []    \n",
    "    for i in range(color_map.shape[1]):\n",
    "        \n",
    "        sum = 0\n",
    "        for j in range(color_map.shape[0]):\n",
    "            \n",
    "            if color_map[j, i] != 0: \n",
    "                if j < 1*h/3:\n",
    "                    sum += 1\n",
    "                elif j < 2*h/3:\n",
    "                    sum += 4\n",
    "                else: \n",
    "                    sum += 9\n",
    "                    \n",
    "        y_cluster.append(sum)\n",
    "    \n",
    "    y_cluster = momentum(y_cluster)\n",
    "    y_cluster = y_cluster/np.amax(y_cluster)\n",
    "\n",
    "    return y_cluster\n",
    "\n",
    "def objectExpectancy_rackImage_2(color_map, info):\n",
    "        \n",
    "    y_cluster = []    \n",
    "    for i in range(color_map.shape[1]):\n",
    "        \n",
    "        sum = 0\n",
    "        for j in range(color_map.shape[0]):\n",
    "            if color_map[j, i] != 0: \n",
    "                sum += color_map[j, i]\n",
    "        \n",
    "        y_cluster.append(sum)\n",
    "\n",
    "    y_cluster = momentum(y_cluster)\n",
    "    y_cluster = y_cluster/np.amax(y_cluster)\n",
    "    \n",
    "    return y_cluster\n",
    "\n",
    "def weightedObjectExpectancy_rackImage_2(color_map, info):\n",
    "    \n",
    "    h = info[2]\n",
    "    \n",
    "    # Hyperparameter\n",
    "    regions = 3\n",
    "    \n",
    "    y_cluster = []    \n",
    "    for i in range(color_map.shape[1]):\n",
    "        \n",
    "        sum = 0\n",
    "        for j in range(color_map.shape[0]):\n",
    "            \n",
    "            if color_map[j, i] != 0: \n",
    "                if j < 1*h/3:\n",
    "                    sum += 1*color_map[j, i]\n",
    "                elif j < 2*h/3:\n",
    "                    sum += 4*color_map[j, i]\n",
    "                else: \n",
    "                    sum += 9*color_map[j, i]\n",
    "                    \n",
    "        y_cluster.append(sum)\n",
    "    \n",
    "    y_cluster = momentum(y_cluster)\n",
    "    y_cluster = y_cluster/np.amax(y_cluster)\n",
    "\n",
    "    return y_cluster"
   ]
  },
  {
   "cell_type": "markdown",
   "metadata": {},
   "source": [
    "### 5.2 Without Morphological Transformations"
   ]
  },
  {
   "cell_type": "markdown",
   "metadata": {},
   "source": [
    "#### 5.2.1 Weighted"
   ]
  },
  {
   "cell_type": "code",
   "execution_count": null,
   "metadata": {},
   "outputs": [],
   "source": [
    "plt.plot(weightedObjectExpectancy_rackImage_1(color_map_sum, info))\n",
    "plt.show()"
   ]
  },
  {
   "cell_type": "markdown",
   "metadata": {},
   "source": [
    "#### 5.2.2 Not Weighted"
   ]
  },
  {
   "cell_type": "code",
   "execution_count": null,
   "metadata": {},
   "outputs": [],
   "source": [
    "plt.plot(objectExpectancy_rackImage_1(color_map_sum, info))\n",
    "plt.show()"
   ]
  },
  {
   "cell_type": "markdown",
   "metadata": {},
   "source": [
    "### 5.3 With Erosion"
   ]
  },
  {
   "cell_type": "markdown",
   "metadata": {},
   "source": [
    "#### 5.3.1 Weighted"
   ]
  },
  {
   "cell_type": "code",
   "execution_count": null,
   "metadata": {},
   "outputs": [],
   "source": [
    "plt.plot(weightedObjectExpectancy_rackImage_1(erosion, info))\n",
    "plt.show()"
   ]
  },
  {
   "cell_type": "markdown",
   "metadata": {},
   "source": [
    "#### 5.3.2 Not Weighted"
   ]
  },
  {
   "cell_type": "code",
   "execution_count": null,
   "metadata": {},
   "outputs": [],
   "source": [
    "plt.plot(objectExpectancy_rackImage_1(erosion, info))\n",
    "plt.show()"
   ]
  },
  {
   "cell_type": "markdown",
   "metadata": {},
   "source": [
    "### 5.4 With Closing"
   ]
  },
  {
   "cell_type": "markdown",
   "metadata": {},
   "source": [
    "#### 5.4.1 Weighted"
   ]
  },
  {
   "cell_type": "code",
   "execution_count": null,
   "metadata": {},
   "outputs": [],
   "source": [
    "plt.plot(weightedObjectExpectancy_rackImage_1(opening, info))\n",
    "plt.show()"
   ]
  },
  {
   "cell_type": "markdown",
   "metadata": {},
   "source": [
    "#### 5.4.2 Not Weighted"
   ]
  },
  {
   "cell_type": "code",
   "execution_count": null,
   "metadata": {},
   "outputs": [],
   "source": [
    "plt.plot(objectExpectancy_rackImage_1(opening, info))\n",
    "plt.show()"
   ]
  }
 ],
 "metadata": {
  "kernelspec": {
   "display_name": "Python 3",
   "language": "python",
   "name": "python3"
  },
  "language_info": {
   "codemirror_mode": {
    "name": "ipython",
    "version": 3
   },
   "file_extension": ".py",
   "mimetype": "text/x-python",
   "name": "python",
   "nbconvert_exporter": "python",
   "pygments_lexer": "ipython3",
   "version": "3.6.4"
  }
 },
 "nbformat": 4,
 "nbformat_minor": 2
}
